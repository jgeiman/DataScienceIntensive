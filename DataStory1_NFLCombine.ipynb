{
 "cells": [
  {
   "cell_type": "markdown",
   "metadata": {},
   "source": [
    "# Data Story 1 - NFL Combine"
   ]
  },
  {
   "cell_type": "markdown",
   "metadata": {},
   "source": [
    "Each year the National Football League (NFL) holds a combine for a select group of collegiate players from around the country to show off their football skills to prospective teams. It also allows NFL teams to compare players through objective  football-related measures. Football, like most professional sports, is big business and teams invest a lot of time and money in evaluating players. The combine provides metrics on players size, speed, power, and intellect. \n",
    "\n",
    "However, critics argue that the combine increases the draft status of \"workout warriors\" with pedestrian college careers, and unfairly downgrades players with excellent college careers who don't perform well. So let's take a look at some of the metrics measured during the NFL combine and see how they effect a player's draft status. "
   ]
  },
  {
   "cell_type": "markdown",
   "metadata": {},
   "source": [
    "## Size Matters (sometimes)\n",
    "NFL players, in many ways, are larger than life. But does size alone translate into improved draft status. For some positions, particularly offensive and defensive lineman, size matters. Below are the top ten heaviest players at the NFL combine from 1999 - 2014. Five of the top ten heaviest players were First Round draft picks in the NFL Draft, but the remaining five heaviest players were either either undrafted, or drafted late. So size does matter, particularly for the offensive tackle position, but clearly more is required than size alone.\n"
   ]
  },
  {
   "cell_type": "code",
   "execution_count": 1,
   "metadata": {
    "collapsed": false
   },
   "outputs": [
    {
     "data": {
      "text/html": [
       "<table border=\"1\" class=\"dataframe\">\n",
       "  <thead>\n",
       "    <tr style=\"text-align: right;\">\n",
       "      <th></th>\n",
       "      <th>Position</th>\n",
       "      <th>Weight</th>\n",
       "      <th>Round</th>\n",
       "    </tr>\n",
       "    <tr>\n",
       "      <th>Name</th>\n",
       "      <th></th>\n",
       "      <th></th>\n",
       "      <th></th>\n",
       "    </tr>\n",
       "  </thead>\n",
       "  <tbody>\n",
       "    <tr>\n",
       "      <th>Aaron Gibson</th>\n",
       "      <td>OT</td>\n",
       "      <td>386</td>\n",
       "      <td>1</td>\n",
       "    </tr>\n",
       "    <tr>\n",
       "      <th>Mike Williams</th>\n",
       "      <td>OT</td>\n",
       "      <td>375</td>\n",
       "      <td>1</td>\n",
       "    </tr>\n",
       "    <tr>\n",
       "      <th>Derrick Fletcher</th>\n",
       "      <td>OT</td>\n",
       "      <td>374</td>\n",
       "      <td>5</td>\n",
       "    </tr>\n",
       "    <tr>\n",
       "      <th>Willie Jones</th>\n",
       "      <td>OT</td>\n",
       "      <td>372</td>\n",
       "      <td>Undrafted</td>\n",
       "    </tr>\n",
       "    <tr>\n",
       "      <th>Leonard Davis</th>\n",
       "      <td>OT</td>\n",
       "      <td>370</td>\n",
       "      <td>1</td>\n",
       "    </tr>\n",
       "    <tr>\n",
       "      <th>T.J. Barnes</th>\n",
       "      <td>DT</td>\n",
       "      <td>369</td>\n",
       "      <td>Undrafted</td>\n",
       "    </tr>\n",
       "    <tr>\n",
       "      <th>Corey Hulsey</th>\n",
       "      <td>OG</td>\n",
       "      <td>367</td>\n",
       "      <td>Undrafted</td>\n",
       "    </tr>\n",
       "    <tr>\n",
       "      <th>Shawn Andrews</th>\n",
       "      <td>OT</td>\n",
       "      <td>366</td>\n",
       "      <td>1</td>\n",
       "    </tr>\n",
       "    <tr>\n",
       "      <th>Stockar McDougle</th>\n",
       "      <td>OT</td>\n",
       "      <td>361</td>\n",
       "      <td>1</td>\n",
       "    </tr>\n",
       "    <tr>\n",
       "      <th>Carl Johnson</th>\n",
       "      <td>OG</td>\n",
       "      <td>361</td>\n",
       "      <td>Undrafted</td>\n",
       "    </tr>\n",
       "  </tbody>\n",
       "</table>"
      ],
      "text/plain": [
       "<IPython.core.display.HTML object>"
      ]
     },
     "metadata": {},
     "output_type": "display_data"
    }
   ],
   "source": [
    "%%html\n",
    "biggest.html"
   ]
  },
  {
   "cell_type": "markdown",
   "metadata": {},
   "source": [
    "## Brainiacs\n",
    "One of the more controversial metrics measured during the NFL Combine is the Wonderlic Cognitive Ability Test, an intelligence test used to measure player's learning and problem solving skills. Below are the ten highest Wonderlic scores at the NFL combine from 1999 - 2014. Interestingly, nine of the top ten players were Quarterbacks. It would seem that intelligence is highly values by NFL teams for the quarterback position. However, only four of the top ten players with the highest Wonderlic scores were selected in the first round of the NFL draft. So it appears that intelligence will only get you so far in the NFL, and other physical traits are major factors in teams draft decisions. A [2005 study](http://www.thesportjournal.org/article/intelligence-and-football-testing-differentials-collegiate-quarterback-passing-performance-a) found no correlation between a quarterback's Wonderlic score and his passer rating or his salary."
   ]
  },
  {
   "cell_type": "code",
   "execution_count": 2,
   "metadata": {
    "collapsed": false,
    "scrolled": true
   },
   "outputs": [
    {
     "data": {
      "text/html": [
       "<table border=\"1\" class=\"dataframe\">\n",
       "  <thead>\n",
       "    <tr style=\"text-align: right;\">\n",
       "      <th></th>\n",
       "      <th>Position</th>\n",
       "      <th>Score</th>\n",
       "      <th>Round</th>\n",
       "    </tr>\n",
       "    <tr>\n",
       "      <th>Name</th>\n",
       "      <th></th>\n",
       "      <th></th>\n",
       "      <th></th>\n",
       "    </tr>\n",
       "  </thead>\n",
       "  <tbody>\n",
       "    <tr>\n",
       "      <th>Ryan Fitzpatrick</th>\n",
       "      <td>QB</td>\n",
       "      <td>48</td>\n",
       "      <td>7</td>\n",
       "    </tr>\n",
       "    <tr>\n",
       "      <th>Jason Maas</th>\n",
       "      <td>QB</td>\n",
       "      <td>43</td>\n",
       "      <td>Undrafted</td>\n",
       "    </tr>\n",
       "    <tr>\n",
       "      <th>Greg McElroy</th>\n",
       "      <td>QB</td>\n",
       "      <td>43</td>\n",
       "      <td>7</td>\n",
       "    </tr>\n",
       "    <tr>\n",
       "      <th>Blaine Gabbert</th>\n",
       "      <td>QB</td>\n",
       "      <td>42</td>\n",
       "      <td>1</td>\n",
       "    </tr>\n",
       "    <tr>\n",
       "      <th>Bruce Eugene</th>\n",
       "      <td>QB</td>\n",
       "      <td>41</td>\n",
       "      <td>Undrafted</td>\n",
       "    </tr>\n",
       "    <tr>\n",
       "      <th>Kevin Barnes</th>\n",
       "      <td>CB</td>\n",
       "      <td>41</td>\n",
       "      <td>3</td>\n",
       "    </tr>\n",
       "    <tr>\n",
       "      <th>Alex Smith</th>\n",
       "      <td>QB</td>\n",
       "      <td>40</td>\n",
       "      <td>1</td>\n",
       "    </tr>\n",
       "    <tr>\n",
       "      <th>Darrell Hackney</th>\n",
       "      <td>QB</td>\n",
       "      <td>40</td>\n",
       "      <td>Undrafted</td>\n",
       "    </tr>\n",
       "    <tr>\n",
       "      <th>Eli Manning</th>\n",
       "      <td>QB</td>\n",
       "      <td>39</td>\n",
       "      <td>1</td>\n",
       "    </tr>\n",
       "    <tr>\n",
       "      <th>Aaron Rodgers</th>\n",
       "      <td>QB</td>\n",
       "      <td>39</td>\n",
       "      <td>1</td>\n",
       "    </tr>\n",
       "  </tbody>\n",
       "</table>"
      ],
      "text/plain": [
       "<IPython.core.display.HTML object>"
      ]
     },
     "metadata": {},
     "output_type": "display_data"
    }
   ],
   "source": [
    "%%html\n",
    "smartest.html"
   ]
  },
  {
   "cell_type": "markdown",
   "metadata": {},
   "source": [
    "##Raw Power\n",
    "Strength and power are one of the hallmarks of a great football player. So it follows that the strongest players may have an advantage, and you might expect that strength to translate into success on the football field. One of the measures of strength tested at the combine is the number of repetitions a player can bench press 225 pounds. Below are the top ten players on the bench press at the NFL combine from 1999 - 2014. As with size and intelligence, one position dominates the top players in the bench press. Defensive lineman account for eight of the top ten players in the bench press. This is makes sense, given that their job involves pushing around offensive lineman, which, as we saw earlier, are typically the heaviest players. However, only three of the top ten players in the bench press were taken in the first or second rounds of the NFL draft. So, once again, it appears that more than strength alone is needed to garner an early selection in the NFL draft. "
   ]
  },
  {
   "cell_type": "code",
   "execution_count": 3,
   "metadata": {
    "collapsed": false
   },
   "outputs": [
    {
     "data": {
      "text/html": [
       "<table border=\"1\" class=\"dataframe\">\n",
       "  <thead>\n",
       "    <tr style=\"text-align: right;\">\n",
       "      <th></th>\n",
       "      <th>Position</th>\n",
       "      <th>Reps</th>\n",
       "      <th>Round</th>\n",
       "    </tr>\n",
       "    <tr>\n",
       "      <th>Name</th>\n",
       "      <th></th>\n",
       "      <th></th>\n",
       "      <th></th>\n",
       "    </tr>\n",
       "  </thead>\n",
       "  <tbody>\n",
       "    <tr>\n",
       "      <th>Justin Ernest</th>\n",
       "      <td>DT</td>\n",
       "      <td>51</td>\n",
       "      <td>Undrafted</td>\n",
       "    </tr>\n",
       "    <tr>\n",
       "      <th>Stephen Paea</th>\n",
       "      <td>DT</td>\n",
       "      <td>49</td>\n",
       "      <td>2</td>\n",
       "    </tr>\n",
       "    <tr>\n",
       "      <th>Mike Kudla</th>\n",
       "      <td>DE</td>\n",
       "      <td>45</td>\n",
       "      <td>Undrafted</td>\n",
       "    </tr>\n",
       "    <tr>\n",
       "      <th>Mitch Petrus</th>\n",
       "      <td>OG</td>\n",
       "      <td>45</td>\n",
       "      <td>5</td>\n",
       "    </tr>\n",
       "    <tr>\n",
       "      <th>Leif Larsen</th>\n",
       "      <td>DT</td>\n",
       "      <td>45</td>\n",
       "      <td>6</td>\n",
       "    </tr>\n",
       "    <tr>\n",
       "      <th>Dontari Poe</th>\n",
       "      <td>DT</td>\n",
       "      <td>44</td>\n",
       "      <td>1</td>\n",
       "    </tr>\n",
       "    <tr>\n",
       "      <th>Brodrick Bunkley</th>\n",
       "      <td>DT</td>\n",
       "      <td>44</td>\n",
       "      <td>1</td>\n",
       "    </tr>\n",
       "    <tr>\n",
       "      <th>Jeff Owens</th>\n",
       "      <td>DT</td>\n",
       "      <td>44</td>\n",
       "      <td>Undrafted</td>\n",
       "    </tr>\n",
       "    <tr>\n",
       "      <th>Scott Young</th>\n",
       "      <td>OG</td>\n",
       "      <td>43</td>\n",
       "      <td>5</td>\n",
       "    </tr>\n",
       "    <tr>\n",
       "      <th>Tank Tyler</th>\n",
       "      <td>DT</td>\n",
       "      <td>42</td>\n",
       "      <td>Undrafted</td>\n",
       "    </tr>\n",
       "  </tbody>\n",
       "</table>"
      ],
      "text/plain": [
       "<IPython.core.display.HTML object>"
      ]
     },
     "metadata": {},
     "output_type": "display_data"
    }
   ],
   "source": [
    "%%html\n",
    "strongest.html"
   ]
  },
  {
   "cell_type": "markdown",
   "metadata": {},
   "source": [
    "Bench press is only one measure of the strength of NFL players. In his book, *Take Your Eye Off the Ball* Pat Kirwan discusses a simple measure to gauge a players explosiveness, which he calls an Explosion Number. The explosion number is:\n",
    "\n",
    "EXPLOSION NUMBER = BENCH PRESS + VERTICAL JUMP + BROAD JUMP\n",
    "\n",
    "This number takes into account both upper and lower body strength. Below is a table of the top ten most explosive players at the NFL combine from 1999-2014. Defensive ends and outside linebackers, which are very similar positions in today's NFL, account for all of the top ten most explosive players. It is interesting how none of the players with the highest bench press repetitions, mostly defensive tackles, also had high explosion numbers. Six of the top ten most explosive players were drafted in the first or second round, however four of the top five were drafted after the second round."
   ]
  },
  {
   "cell_type": "code",
   "execution_count": 4,
   "metadata": {
    "collapsed": false,
    "scrolled": true
   },
   "outputs": [
    {
     "data": {
      "text/html": [
       "<table border=\"1\" class=\"dataframe\">\n",
       "  <thead>\n",
       "    <tr style=\"text-align: right;\">\n",
       "      <th></th>\n",
       "      <th>Position</th>\n",
       "      <th>Explosion Number</th>\n",
       "      <th>Round</th>\n",
       "    </tr>\n",
       "    <tr>\n",
       "      <th>Name</th>\n",
       "      <th></th>\n",
       "      <th></th>\n",
       "      <th></th>\n",
       "    </tr>\n",
       "  </thead>\n",
       "  <tbody>\n",
       "    <tr>\n",
       "      <th>Terna Nande</th>\n",
       "      <td>OLB</td>\n",
       "      <td>204.0</td>\n",
       "      <td>5</td>\n",
       "    </tr>\n",
       "    <tr>\n",
       "      <th>Cornelius Washington</th>\n",
       "      <td>DE</td>\n",
       "      <td>203.0</td>\n",
       "      <td>6</td>\n",
       "    </tr>\n",
       "    <tr>\n",
       "      <th>Jon Alston</th>\n",
       "      <td>OLB</td>\n",
       "      <td>202.0</td>\n",
       "      <td>3</td>\n",
       "    </tr>\n",
       "    <tr>\n",
       "      <th>Jamie Collins</th>\n",
       "      <td>DE</td>\n",
       "      <td>199.5</td>\n",
       "      <td>2</td>\n",
       "    </tr>\n",
       "    <tr>\n",
       "      <th>Dekoda Watson</th>\n",
       "      <td>OLB</td>\n",
       "      <td>198.0</td>\n",
       "      <td>7</td>\n",
       "    </tr>\n",
       "    <tr>\n",
       "      <th>Vernon Gholston</th>\n",
       "      <td>DE</td>\n",
       "      <td>197.5</td>\n",
       "      <td>1</td>\n",
       "    </tr>\n",
       "    <tr>\n",
       "      <th>Sean Weatherspoon</th>\n",
       "      <td>OLB</td>\n",
       "      <td>197.0</td>\n",
       "      <td>1</td>\n",
       "    </tr>\n",
       "    <tr>\n",
       "      <th>Ryan Shazier</th>\n",
       "      <td>OLB</td>\n",
       "      <td>197.0</td>\n",
       "      <td>1</td>\n",
       "    </tr>\n",
       "    <tr>\n",
       "      <th>Nick Perry</th>\n",
       "      <td>DE</td>\n",
       "      <td>197.0</td>\n",
       "      <td>1</td>\n",
       "    </tr>\n",
       "    <tr>\n",
       "      <th>Travis Laboy</th>\n",
       "      <td>DE</td>\n",
       "      <td>196.5</td>\n",
       "      <td>2</td>\n",
       "    </tr>\n",
       "  </tbody>\n",
       "</table>"
      ],
      "text/plain": [
       "<IPython.core.display.HTML object>"
      ]
     },
     "metadata": {},
     "output_type": "display_data"
    }
   ],
   "source": [
    "%%html\n",
    "explosion.html"
   ]
  },
  {
   "cell_type": "markdown",
   "metadata": {},
   "source": [
    "Based on the top ten most explosive players, it may seem likely the explosion number is not that indicative of a player's draft status. To investigate this further, the average explosion number for defensive ends and outside linebackers is plotted below, based on the round in which they were drafted. In general, players taken in later rounds had lower explosion numbers than those taken in earlier rounds. It appears that the explosion number captures some desirable traits in NFL defensive ends and outside linebackers that results in a higher draft status for those that perform well in the these metrics. "
   ]
  },
  {
   "cell_type": "code",
   "execution_count": 5,
   "metadata": {
    "collapsed": false
   },
   "outputs": [
    {
     "data": {
      "image/png": "[encoded data removed]",
      "text/plain": [
       "<IPython.core.display.Image object>"
      ]
     },
     "execution_count": 5,
     "metadata": {},
     "output_type": "execute_result"
    }
   ],
   "source": [
    "from IPython.display import Image\n",
    "Image(filename='exp_by_round.png')"
   ]
  },
  {
   "cell_type": "markdown",
   "metadata": {},
   "source": [
    "## Speed Kills\n",
    "For other positions, while size, strength, and intellect are desired, speed is the primary asset on which players are evaluated. Below is a table of the ten fastest times in the 40 yard dash at the NFL Combine from 1999 - 2014. Wide receivers, cornerbacks, and running backs account for all of the ten fastest times. Only one of the top ten fastest players were drafted later than the fourth round. "
   ]
  },
  {
   "cell_type": "code",
   "execution_count": 6,
   "metadata": {
    "collapsed": false
   },
   "outputs": [
    {
     "data": {
      "text/html": [
       "<table border=\"1\" class=\"dataframe\">\n",
       "  <thead>\n",
       "    <tr style=\"text-align: right;\">\n",
       "      <th></th>\n",
       "      <th>Position</th>\n",
       "      <th>Time</th>\n",
       "      <th>Round</th>\n",
       "    </tr>\n",
       "    <tr>\n",
       "      <th>Name</th>\n",
       "      <th></th>\n",
       "      <th></th>\n",
       "      <th></th>\n",
       "    </tr>\n",
       "  </thead>\n",
       "  <tbody>\n",
       "    <tr>\n",
       "      <th>Rondel Menendez</th>\n",
       "      <td>WR</td>\n",
       "      <td>4.24</td>\n",
       "      <td>7</td>\n",
       "    </tr>\n",
       "    <tr>\n",
       "      <th>Chris Johnson</th>\n",
       "      <td>RB</td>\n",
       "      <td>4.24</td>\n",
       "      <td>1</td>\n",
       "    </tr>\n",
       "    <tr>\n",
       "      <th>Demarcus Van Dyke</th>\n",
       "      <td>CB</td>\n",
       "      <td>4.25</td>\n",
       "      <td>3</td>\n",
       "    </tr>\n",
       "    <tr>\n",
       "      <th>Jerome Mathis</th>\n",
       "      <td>WR</td>\n",
       "      <td>4.26</td>\n",
       "      <td>4</td>\n",
       "    </tr>\n",
       "    <tr>\n",
       "      <th>Dri Archer</th>\n",
       "      <td>RB</td>\n",
       "      <td>4.26</td>\n",
       "      <td>4</td>\n",
       "    </tr>\n",
       "    <tr>\n",
       "      <th>Stanford Routt</th>\n",
       "      <td>CB</td>\n",
       "      <td>4.27</td>\n",
       "      <td>2</td>\n",
       "    </tr>\n",
       "    <tr>\n",
       "      <th>Marquise Goodwin</th>\n",
       "      <td>WR</td>\n",
       "      <td>4.27</td>\n",
       "      <td>3</td>\n",
       "    </tr>\n",
       "    <tr>\n",
       "      <th>C.J. Spiller</th>\n",
       "      <td>RB</td>\n",
       "      <td>4.27</td>\n",
       "      <td>1</td>\n",
       "    </tr>\n",
       "    <tr>\n",
       "      <th>Jacoby Ford</th>\n",
       "      <td>WR</td>\n",
       "      <td>4.28</td>\n",
       "      <td>4</td>\n",
       "    </tr>\n",
       "    <tr>\n",
       "      <th>Champ Bailey</th>\n",
       "      <td>CB</td>\n",
       "      <td>4.28</td>\n",
       "      <td>1</td>\n",
       "    </tr>\n",
       "  </tbody>\n",
       "</table>"
      ],
      "text/plain": [
       "<IPython.core.display.HTML object>"
      ]
     },
     "metadata": {},
     "output_type": "display_data"
    }
   ],
   "source": [
    "%%html\n",
    "fastest.html"
   ]
  },
  {
   "cell_type": "markdown",
   "metadata": {},
   "source": [
    "However, as with the explosive numbers, it is unclear whether fast times in the 40 yard dash are correlated with a player's draft status. Below is a figure looking at the average 40 yard dash times of cornerbacks and wide receivers by the round in which they were drafted. For these positions, faster times in the 40 yard dash meant higher draft status, with slower players being taken later in the NFL draft, if at all."
   ]
  },
  {
   "cell_type": "code",
   "execution_count": 7,
   "metadata": {
    "collapsed": false
   },
   "outputs": [
    {
     "data": {
      "image/png": "[encoded data removed]",
      "text/plain": [
       "<IPython.core.display.Image object>"
      ]
     },
     "execution_count": 7,
     "metadata": {},
     "output_type": "execute_result"
    }
   ],
   "source": [
    "from IPython.display import Image\n",
    "Image(filename='speed_by_round.png')"
   ]
  },
  {
   "cell_type": "markdown",
   "metadata": {},
   "source": [
    "Speed is also highly valued in running backs. In fact, an [ESPN article](http://sports.espn.go.com/nfl/news/story?id=3337822) identified the combine metrics of 40 yard dash time and vertical leap were each correlated with the future performance of running backs. So the figure below examines the average 40 yard dash times and vertical leaps of running backs taken in each round of the NFL Draft from 1999-2014 to see if these correlations also exist for the draft status of running backs. Running backs taken in the first round have the fastest 40 yard dash times and the greatest vertical leaps, on average. In later rounds of the NFL draft, the 40 yard dash times increase and the vertical leaps decrease."
   ]
  },
  {
   "cell_type": "code",
   "execution_count": 8,
   "metadata": {
    "collapsed": false
   },
   "outputs": [
    {
     "data": {
      "image/png": "[encoded data removed]",
      "text/plain": [
       "<IPython.core.display.Image object>"
      ]
     },
     "execution_count": 8,
     "metadata": {},
     "output_type": "execute_result"
    }
   ],
   "source": [
    "Image('rb_by_round.png')"
   ]
  },
  {
   "cell_type": "markdown",
   "metadata": {},
   "source": [
    "#Lessons Learned\n",
    "We looked at some of the metrics measured during the NFL combine to see how they effect a player's draft status. Some of the lessons learned from this exploration of the NFL combine data include: \n",
    "\n",
    "- Relevant metric(s) vary by position\n",
    "- Some metrics appear to be clearly correlated with draft position\n",
    "- Single metrics may not be the best indicator of draft position. Combinations of metrics may provide improved results.\n",
    "\n",
    "This analysis also raises several additional questions for further analysis:\n",
    "1. What metrics, or combination of metrics, should NFL teams use to best evaluate players at each position?\n",
    "2. What metrics, if any, provide useful predictive measures of a player's future NFL success? \n"
   ]
  },
  {
   "cell_type": "markdown",
   "metadata": {},
   "source": [
    "\n",
    "*Data Source*: [NFLSavant.com](http://nflsavant.com/dump/combine.csv?year=2015)\n"
   ]
  },
  {
   "cell_type": "markdown",
   "metadata": {},
   "source": [
    "#Code"
   ]
  },
  {
   "cell_type": "code",
   "execution_count": 88,
   "metadata": {
    "collapsed": false
   },
   "outputs": [],
   "source": [
    "import pandas as pd\n",
    "import matplotlib.pyplot as plt\n",
    "%matplotlib inline\n",
    "\n",
    "combine = pd.read_csv('combine.csv')"
   ]
  },
  {
   "cell_type": "code",
   "execution_count": 89,
   "metadata": {
    "collapsed": true
   },
   "outputs": [],
   "source": [
    "# remove 2015 data -- incomplete\n",
    "combine = combine[combine.year != 2015]"
   ]
  },
  {
   "cell_type": "code",
   "execution_count": 134,
   "metadata": {
    "collapsed": false
   },
   "outputs": [
    {
     "name": "stdout",
     "output_type": "stream",
     "text": [
      "<class 'pandas.core.frame.DataFrame'>\n",
      "Int64Index: 4625 entries, 322 to 4946\n",
      "Data columns (total 28 columns):\n",
      "year                 4625 non-null int64\n",
      "name                 4625 non-null object\n",
      "firstname            4625 non-null object\n",
      "lastname             4625 non-null object\n",
      "position             4625 non-null object\n",
      "heightfeet           4625 non-null int64\n",
      "heightinches         4625 non-null float64\n",
      "heightinchestotal    4625 non-null float64\n",
      "weight               4625 non-null int64\n",
      "arms                 4625 non-null float64\n",
      "hands                4625 non-null float64\n",
      "fortyyd              4625 non-null float64\n",
      "twentyyd             4625 non-null float64\n",
      "tenyd                4625 non-null float64\n",
      "twentyss             4625 non-null float64\n",
      "threecone            4625 non-null float64\n",
      "vertical             4625 non-null float64\n",
      "broad                4625 non-null int64\n",
      "bench                4625 non-null int64\n",
      "round                4625 non-null int64\n",
      "college              3155 non-null object\n",
      "pick                 3156 non-null object\n",
      "pickround            4625 non-null int64\n",
      "picktotal            4625 non-null int64\n",
      "wonderlic            4625 non-null int64\n",
      "nflgrade             4625 non-null float64\n",
      "pos_cat              4625 non-null object\n",
      "exp_per_lb           4625 non-null float64\n",
      "dtypes: float64(12), int64(9), object(7)\n",
      "memory usage: 1.0+ MB\n"
     ]
    }
   ],
   "source": [
    "# listing of data columns\n",
    "combine.info()"
   ]
  },
  {
   "cell_type": "code",
   "execution_count": 132,
   "metadata": {
    "collapsed": false
   },
   "outputs": [
    {
     "data": {
      "text/plain": [
       "array(['WR', 'DB', 'TE', 'RB', 'OL', 'LB', 'QB', 'ST', 'DL', 'FB'], dtype=object)"
      ]
     },
     "execution_count": 132,
     "metadata": {},
     "output_type": "execute_result"
    }
   ],
   "source": [
    "# create new column to group like positions into categories\n",
    "new_positions = {'RB':'RB', 'WR':'WR', 'OLB':'LB', 'FS': 'DB', 'DE':'DL', 'TE':'TE', 'ILB':'LB', \n",
    "                 'P':'ST', 'QB':'QB', 'DT':'DL', 'LS':'ST', 'K':'ST', 'FB':'FB',\n",
    "                 'OG':'OL', 'OT':'OL', 'SS':'DB', 'CB':'DB', 'C':'OL', \n",
    "                'NT':'DL', 'OC':'OL'}\n",
    "\n",
    "combine['pos_cat'] = combine.position.map(new_positions)\n",
    "pd.unique(combine.pos_cat.values.ravel())"
   ]
  },
  {
   "cell_type": "code",
   "execution_count": 136,
   "metadata": {
    "collapsed": false
   },
   "outputs": [
    {
     "data": {
      "image/png": "[encoded data removed]",
      "text/plain": [
       "<matplotlib.figure.Figure at 0x10daa9f90>"
      ]
     },
     "metadata": {},
     "output_type": "display_data"
    }
   ],
   "source": [
    "# create table with nonzero times\n",
    "timed40 = combine[combine.fortyyd != 0]\n",
    "\n",
    "# group times by position and round\n",
    "fortys = timed40.groupby(['position','round'])[['fortyyd']].mean()\n",
    "grouped = fortys.unstack('round')\n",
    "\n",
    "# update column names\n",
    "grouped.columns = ['Undrafted'] + ['%d' % i for i in range(1,9)]\n",
    "grouped.sort(axis=1, inplace=True)\n",
    "del grouped['8']\n",
    "\n",
    "# plot the results for CB and WR\n",
    "fig, ax = plt.subplots(1,1)\n",
    "grouped.loc['CB'].plot(ax=ax, label='CB')\n",
    "grouped.loc['WR'].plot(ax=ax, label='WR')\n",
    "\n",
    "ax.set_ylabel('40 yard dash (s)')\n",
    "ax.set_xlabel('Draft Round')\n",
    "\n",
    "ax.set_ylim([4.35, 4.6])\n",
    "ax.legend(loc='best')\n",
    "fig.savefig('speed_by_round.png', dpi=150)"
   ]
  },
  {
   "cell_type": "code",
   "execution_count": 137,
   "metadata": {
    "collapsed": true
   },
   "outputs": [],
   "source": [
    "# create a function to map the numeric draft rounds to labels\n",
    "def round_map():\n",
    "    rounds = {i:i for i in range(1,8)}\n",
    "    rounds[0]='Undrafted'\n",
    "    return rounds"
   ]
  },
  {
   "cell_type": "code",
   "execution_count": 107,
   "metadata": {
    "collapsed": false
   },
   "outputs": [
    {
     "data": {
      "text/html": [
       "<div>\n",
       "<table border=\"1\" class=\"dataframe\">\n",
       "  <thead>\n",
       "    <tr style=\"text-align: right;\">\n",
       "      <th></th>\n",
       "      <th>Position</th>\n",
       "      <th>Time</th>\n",
       "      <th>Round</th>\n",
       "    </tr>\n",
       "    <tr>\n",
       "      <th>Name</th>\n",
       "      <th></th>\n",
       "      <th></th>\n",
       "      <th></th>\n",
       "    </tr>\n",
       "  </thead>\n",
       "  <tbody>\n",
       "    <tr>\n",
       "      <th>Rondel Menendez</th>\n",
       "      <td>WR</td>\n",
       "      <td>4.24</td>\n",
       "      <td>7</td>\n",
       "    </tr>\n",
       "    <tr>\n",
       "      <th>Chris Johnson</th>\n",
       "      <td>RB</td>\n",
       "      <td>4.24</td>\n",
       "      <td>1</td>\n",
       "    </tr>\n",
       "    <tr>\n",
       "      <th>Demarcus Van Dyke</th>\n",
       "      <td>CB</td>\n",
       "      <td>4.25</td>\n",
       "      <td>3</td>\n",
       "    </tr>\n",
       "    <tr>\n",
       "      <th>Jerome Mathis</th>\n",
       "      <td>WR</td>\n",
       "      <td>4.26</td>\n",
       "      <td>4</td>\n",
       "    </tr>\n",
       "    <tr>\n",
       "      <th>Dri Archer</th>\n",
       "      <td>RB</td>\n",
       "      <td>4.26</td>\n",
       "      <td>4</td>\n",
       "    </tr>\n",
       "    <tr>\n",
       "      <th>Stanford Routt</th>\n",
       "      <td>CB</td>\n",
       "      <td>4.27</td>\n",
       "      <td>2</td>\n",
       "    </tr>\n",
       "    <tr>\n",
       "      <th>Marquise Goodwin</th>\n",
       "      <td>WR</td>\n",
       "      <td>4.27</td>\n",
       "      <td>3</td>\n",
       "    </tr>\n",
       "    <tr>\n",
       "      <th>C.J. Spiller</th>\n",
       "      <td>RB</td>\n",
       "      <td>4.27</td>\n",
       "      <td>1</td>\n",
       "    </tr>\n",
       "    <tr>\n",
       "      <th>Jacoby Ford</th>\n",
       "      <td>WR</td>\n",
       "      <td>4.28</td>\n",
       "      <td>4</td>\n",
       "    </tr>\n",
       "    <tr>\n",
       "      <th>Champ Bailey</th>\n",
       "      <td>CB</td>\n",
       "      <td>4.28</td>\n",
       "      <td>1</td>\n",
       "    </tr>\n",
       "  </tbody>\n",
       "</table>\n",
       "</div>"
      ],
      "text/plain": [
       "                  Position  Time Round\n",
       "Name                                  \n",
       "Rondel Menendez         WR  4.24     7\n",
       "Chris Johnson           RB  4.24     1\n",
       "Demarcus Van Dyke       CB  4.25     3\n",
       "Jerome Mathis           WR  4.26     4\n",
       "Dri Archer              RB  4.26     4\n",
       "Stanford Routt          CB  4.27     2\n",
       "Marquise Goodwin        WR  4.27     3\n",
       "C.J. Spiller            RB  4.27     1\n",
       "Jacoby Ford             WR  4.28     4\n",
       "Champ Bailey            CB  4.28     1"
      ]
     },
     "execution_count": 107,
     "metadata": {},
     "output_type": "execute_result"
    }
   ],
   "source": [
    "# get a table of the 10 fastest players\n",
    "fastest = timed40.sort('fortyyd')[['name','position','fortyyd', 'round']].head(10)\n",
    "fastest.columns = ['Name', 'Position', 'Time', 'Round']\n",
    "fastest['Round'] = fastest.Round.map(round_map())\n",
    "fastest.set_index('Name', drop=True, inplace=True)\n",
    "fastest.to_html('fastest.html')\n",
    "fastest\n"
   ]
  },
  {
   "cell_type": "code",
   "execution_count": 109,
   "metadata": {
    "collapsed": false
   },
   "outputs": [
    {
     "data": {
      "text/html": [
       "<div>\n",
       "<table border=\"1\" class=\"dataframe\">\n",
       "  <thead>\n",
       "    <tr style=\"text-align: right;\">\n",
       "      <th></th>\n",
       "      <th>Position</th>\n",
       "      <th>Reps</th>\n",
       "      <th>Round</th>\n",
       "    </tr>\n",
       "    <tr>\n",
       "      <th>Name</th>\n",
       "      <th></th>\n",
       "      <th></th>\n",
       "      <th></th>\n",
       "    </tr>\n",
       "  </thead>\n",
       "  <tbody>\n",
       "    <tr>\n",
       "      <th>Justin Ernest</th>\n",
       "      <td>DT</td>\n",
       "      <td>51</td>\n",
       "      <td>Undrafted</td>\n",
       "    </tr>\n",
       "    <tr>\n",
       "      <th>Stephen Paea</th>\n",
       "      <td>DT</td>\n",
       "      <td>49</td>\n",
       "      <td>2</td>\n",
       "    </tr>\n",
       "    <tr>\n",
       "      <th>Mike Kudla</th>\n",
       "      <td>DE</td>\n",
       "      <td>45</td>\n",
       "      <td>Undrafted</td>\n",
       "    </tr>\n",
       "    <tr>\n",
       "      <th>Mitch Petrus</th>\n",
       "      <td>OG</td>\n",
       "      <td>45</td>\n",
       "      <td>5</td>\n",
       "    </tr>\n",
       "    <tr>\n",
       "      <th>Leif Larsen</th>\n",
       "      <td>DT</td>\n",
       "      <td>45</td>\n",
       "      <td>6</td>\n",
       "    </tr>\n",
       "    <tr>\n",
       "      <th>Dontari Poe</th>\n",
       "      <td>DT</td>\n",
       "      <td>44</td>\n",
       "      <td>1</td>\n",
       "    </tr>\n",
       "    <tr>\n",
       "      <th>Brodrick Bunkley</th>\n",
       "      <td>DT</td>\n",
       "      <td>44</td>\n",
       "      <td>1</td>\n",
       "    </tr>\n",
       "    <tr>\n",
       "      <th>Jeff Owens</th>\n",
       "      <td>DT</td>\n",
       "      <td>44</td>\n",
       "      <td>Undrafted</td>\n",
       "    </tr>\n",
       "    <tr>\n",
       "      <th>Scott Young</th>\n",
       "      <td>OG</td>\n",
       "      <td>43</td>\n",
       "      <td>5</td>\n",
       "    </tr>\n",
       "    <tr>\n",
       "      <th>Tank Tyler</th>\n",
       "      <td>DT</td>\n",
       "      <td>42</td>\n",
       "      <td>Undrafted</td>\n",
       "    </tr>\n",
       "  </tbody>\n",
       "</table>\n",
       "</div>"
      ],
      "text/plain": [
       "                 Position  Reps      Round\n",
       "Name                                      \n",
       "Justin Ernest          DT    51  Undrafted\n",
       "Stephen Paea           DT    49          2\n",
       "Mike Kudla             DE    45  Undrafted\n",
       "Mitch Petrus           OG    45          5\n",
       "Leif Larsen            DT    45          6\n",
       "Dontari Poe            DT    44          1\n",
       "Brodrick Bunkley       DT    44          1\n",
       "Jeff Owens             DT    44  Undrafted\n",
       "Scott Young            OG    43          5\n",
       "Tank Tyler             DT    42  Undrafted"
      ]
     },
     "execution_count": 109,
     "metadata": {},
     "output_type": "execute_result"
    }
   ],
   "source": [
    "# get a table of the 10 strongest players\n",
    "strongest = combine[combine['bench']>0]\n",
    "strongest = strongest.sort('bench', ascending=False)[['name','position','bench', 'round']].head(10)\n",
    "strongest.columns = ['Name', 'Position', 'Reps', 'Round']\n",
    "strongest['Round'] = strongest.Round.map(round_map())\n",
    "strongest.set_index('Name', drop=True, inplace=True)\n",
    "strongest.to_html('strongest.html')\n",
    "strongest"
   ]
  },
  {
   "cell_type": "code",
   "execution_count": 110,
   "metadata": {
    "collapsed": false
   },
   "outputs": [
    {
     "data": {
      "text/html": [
       "<div>\n",
       "<table border=\"1\" class=\"dataframe\">\n",
       "  <thead>\n",
       "    <tr style=\"text-align: right;\">\n",
       "      <th></th>\n",
       "      <th>Position</th>\n",
       "      <th>Score</th>\n",
       "      <th>Round</th>\n",
       "    </tr>\n",
       "    <tr>\n",
       "      <th>Name</th>\n",
       "      <th></th>\n",
       "      <th></th>\n",
       "      <th></th>\n",
       "    </tr>\n",
       "  </thead>\n",
       "  <tbody>\n",
       "    <tr>\n",
       "      <th>Ryan Fitzpatrick</th>\n",
       "      <td>QB</td>\n",
       "      <td>48</td>\n",
       "      <td>7</td>\n",
       "    </tr>\n",
       "    <tr>\n",
       "      <th>Jason Maas</th>\n",
       "      <td>QB</td>\n",
       "      <td>43</td>\n",
       "      <td>Undrafted</td>\n",
       "    </tr>\n",
       "    <tr>\n",
       "      <th>Greg McElroy</th>\n",
       "      <td>QB</td>\n",
       "      <td>43</td>\n",
       "      <td>7</td>\n",
       "    </tr>\n",
       "    <tr>\n",
       "      <th>Blaine Gabbert</th>\n",
       "      <td>QB</td>\n",
       "      <td>42</td>\n",
       "      <td>1</td>\n",
       "    </tr>\n",
       "    <tr>\n",
       "      <th>Bruce Eugene</th>\n",
       "      <td>QB</td>\n",
       "      <td>41</td>\n",
       "      <td>Undrafted</td>\n",
       "    </tr>\n",
       "    <tr>\n",
       "      <th>Kevin Barnes</th>\n",
       "      <td>CB</td>\n",
       "      <td>41</td>\n",
       "      <td>3</td>\n",
       "    </tr>\n",
       "    <tr>\n",
       "      <th>Alex Smith</th>\n",
       "      <td>QB</td>\n",
       "      <td>40</td>\n",
       "      <td>1</td>\n",
       "    </tr>\n",
       "    <tr>\n",
       "      <th>Darrell Hackney</th>\n",
       "      <td>QB</td>\n",
       "      <td>40</td>\n",
       "      <td>Undrafted</td>\n",
       "    </tr>\n",
       "    <tr>\n",
       "      <th>Eli Manning</th>\n",
       "      <td>QB</td>\n",
       "      <td>39</td>\n",
       "      <td>1</td>\n",
       "    </tr>\n",
       "    <tr>\n",
       "      <th>Aaron Rodgers</th>\n",
       "      <td>QB</td>\n",
       "      <td>39</td>\n",
       "      <td>1</td>\n",
       "    </tr>\n",
       "  </tbody>\n",
       "</table>\n",
       "</div>"
      ],
      "text/plain": [
       "                 Position  Score      Round\n",
       "Name                                       \n",
       "Ryan Fitzpatrick       QB     48          7\n",
       "Jason Maas             QB     43  Undrafted\n",
       "Greg McElroy           QB     43          7\n",
       "Blaine Gabbert         QB     42          1\n",
       "Bruce Eugene           QB     41  Undrafted\n",
       "Kevin Barnes           CB     41          3\n",
       "Alex Smith             QB     40          1\n",
       "Darrell Hackney        QB     40  Undrafted\n",
       "Eli Manning            QB     39          1\n",
       "Aaron Rodgers          QB     39          1"
      ]
     },
     "execution_count": 110,
     "metadata": {},
     "output_type": "execute_result"
    }
   ],
   "source": [
    "# get a table of the 10 smartest players\n",
    "smartest = combine[combine['wonderlic']>0]\n",
    "smartest = smartest.sort('wonderlic', ascending=False)[['name','position','wonderlic', 'round']].head(10)\n",
    "smartest.columns = ['Name', 'Position', 'Score', 'Round']\n",
    "smartest['Round'] = smartest.Round.map(round_map())\n",
    "smartest.set_index('Name', drop=True, inplace=True)\n",
    "smartest.to_html('smartest.html')\n",
    "smartest"
   ]
  },
  {
   "cell_type": "code",
   "execution_count": 111,
   "metadata": {
    "collapsed": false
   },
   "outputs": [
    {
     "data": {
      "text/html": [
       "<div>\n",
       "<table border=\"1\" class=\"dataframe\">\n",
       "  <thead>\n",
       "    <tr style=\"text-align: right;\">\n",
       "      <th></th>\n",
       "      <th>Position</th>\n",
       "      <th>Weight</th>\n",
       "      <th>Round</th>\n",
       "    </tr>\n",
       "    <tr>\n",
       "      <th>Name</th>\n",
       "      <th></th>\n",
       "      <th></th>\n",
       "      <th></th>\n",
       "    </tr>\n",
       "  </thead>\n",
       "  <tbody>\n",
       "    <tr>\n",
       "      <th>Aaron Gibson</th>\n",
       "      <td>OT</td>\n",
       "      <td>386</td>\n",
       "      <td>1</td>\n",
       "    </tr>\n",
       "    <tr>\n",
       "      <th>Mike Williams</th>\n",
       "      <td>OT</td>\n",
       "      <td>375</td>\n",
       "      <td>1</td>\n",
       "    </tr>\n",
       "    <tr>\n",
       "      <th>Derrick Fletcher</th>\n",
       "      <td>OT</td>\n",
       "      <td>374</td>\n",
       "      <td>5</td>\n",
       "    </tr>\n",
       "    <tr>\n",
       "      <th>Willie Jones</th>\n",
       "      <td>OT</td>\n",
       "      <td>372</td>\n",
       "      <td>Undrafted</td>\n",
       "    </tr>\n",
       "    <tr>\n",
       "      <th>Leonard Davis</th>\n",
       "      <td>OT</td>\n",
       "      <td>370</td>\n",
       "      <td>1</td>\n",
       "    </tr>\n",
       "    <tr>\n",
       "      <th>T.J. Barnes</th>\n",
       "      <td>DT</td>\n",
       "      <td>369</td>\n",
       "      <td>Undrafted</td>\n",
       "    </tr>\n",
       "    <tr>\n",
       "      <th>Corey Hulsey</th>\n",
       "      <td>OG</td>\n",
       "      <td>367</td>\n",
       "      <td>Undrafted</td>\n",
       "    </tr>\n",
       "    <tr>\n",
       "      <th>Shawn Andrews</th>\n",
       "      <td>OT</td>\n",
       "      <td>366</td>\n",
       "      <td>1</td>\n",
       "    </tr>\n",
       "    <tr>\n",
       "      <th>Stockar McDougle</th>\n",
       "      <td>OT</td>\n",
       "      <td>361</td>\n",
       "      <td>1</td>\n",
       "    </tr>\n",
       "    <tr>\n",
       "      <th>Carl Johnson</th>\n",
       "      <td>OG</td>\n",
       "      <td>361</td>\n",
       "      <td>Undrafted</td>\n",
       "    </tr>\n",
       "  </tbody>\n",
       "</table>\n",
       "</div>"
      ],
      "text/plain": [
       "                 Position  Weight      Round\n",
       "Name                                        \n",
       "Aaron Gibson           OT     386          1\n",
       "Mike Williams          OT     375          1\n",
       "Derrick Fletcher       OT     374          5\n",
       "Willie Jones           OT     372  Undrafted\n",
       "Leonard Davis          OT     370          1\n",
       "T.J. Barnes            DT     369  Undrafted\n",
       "Corey Hulsey           OG     367  Undrafted\n",
       "Shawn Andrews          OT     366          1\n",
       "Stockar McDougle       OT     361          1\n",
       "Carl Johnson           OG     361  Undrafted"
      ]
     },
     "execution_count": 111,
     "metadata": {},
     "output_type": "execute_result"
    }
   ],
   "source": [
    "# get a table of the 10 biggest players (by weight)\n",
    "biggest = combine.sort('weight', ascending=False)[['name','position','weight', 'round']].head(10)\n",
    "biggest.columns = ['Name', 'Position', 'Weight', 'Round']\n",
    "biggest.set_index('Name', drop=True, inplace=True)\n",
    "biggest['Round'] = biggest.Round.map(round_map())\n",
    "biggest.to_html('biggest.html')\n",
    "biggest"
   ]
  },
  {
   "cell_type": "code",
   "execution_count": 112,
   "metadata": {
    "collapsed": false
   },
   "outputs": [
    {
     "name": "stderr",
     "output_type": "stream",
     "text": [
      "/Users/jag/anaconda/lib/python2.7/site-packages/IPython/kernel/__main__.py:2: SettingWithCopyWarning: \n",
      "A value is trying to be set on a copy of a slice from a DataFrame.\n",
      "Try using .loc[row_indexer,col_indexer] = value instead\n",
      "\n",
      "See the the caveats in the documentation: http://pandas.pydata.org/pandas-docs/stable/indexing.html#indexing-view-versus-copy\n",
      "  from IPython.kernel.zmq import kernelapp as app\n"
     ]
    },
    {
     "data": {
      "text/html": [
       "<div>\n",
       "<table border=\"1\" class=\"dataframe\">\n",
       "  <thead>\n",
       "    <tr style=\"text-align: right;\">\n",
       "      <th></th>\n",
       "      <th>Position</th>\n",
       "      <th>Explosion Number</th>\n",
       "      <th>Round</th>\n",
       "    </tr>\n",
       "    <tr>\n",
       "      <th>Name</th>\n",
       "      <th></th>\n",
       "      <th></th>\n",
       "      <th></th>\n",
       "    </tr>\n",
       "  </thead>\n",
       "  <tbody>\n",
       "    <tr>\n",
       "      <th>Terna Nande</th>\n",
       "      <td>OLB</td>\n",
       "      <td>204.0</td>\n",
       "      <td>5</td>\n",
       "    </tr>\n",
       "    <tr>\n",
       "      <th>Cornelius Washington</th>\n",
       "      <td>DE</td>\n",
       "      <td>203.0</td>\n",
       "      <td>6</td>\n",
       "    </tr>\n",
       "    <tr>\n",
       "      <th>Jon Alston</th>\n",
       "      <td>OLB</td>\n",
       "      <td>202.0</td>\n",
       "      <td>3</td>\n",
       "    </tr>\n",
       "    <tr>\n",
       "      <th>Jamie Collins</th>\n",
       "      <td>DE</td>\n",
       "      <td>199.5</td>\n",
       "      <td>2</td>\n",
       "    </tr>\n",
       "    <tr>\n",
       "      <th>Dekoda Watson</th>\n",
       "      <td>OLB</td>\n",
       "      <td>198.0</td>\n",
       "      <td>7</td>\n",
       "    </tr>\n",
       "    <tr>\n",
       "      <th>Vernon Gholston</th>\n",
       "      <td>DE</td>\n",
       "      <td>197.5</td>\n",
       "      <td>1</td>\n",
       "    </tr>\n",
       "    <tr>\n",
       "      <th>Sean Weatherspoon</th>\n",
       "      <td>OLB</td>\n",
       "      <td>197.0</td>\n",
       "      <td>1</td>\n",
       "    </tr>\n",
       "    <tr>\n",
       "      <th>Ryan Shazier</th>\n",
       "      <td>OLB</td>\n",
       "      <td>197.0</td>\n",
       "      <td>1</td>\n",
       "    </tr>\n",
       "    <tr>\n",
       "      <th>Nick Perry</th>\n",
       "      <td>DE</td>\n",
       "      <td>197.0</td>\n",
       "      <td>1</td>\n",
       "    </tr>\n",
       "    <tr>\n",
       "      <th>Travis Laboy</th>\n",
       "      <td>DE</td>\n",
       "      <td>196.5</td>\n",
       "      <td>2</td>\n",
       "    </tr>\n",
       "  </tbody>\n",
       "</table>\n",
       "</div>"
      ],
      "text/plain": [
       "                     Position  Explosion Number Round\n",
       "Name                                                 \n",
       "Terna Nande               OLB             204.0     5\n",
       "Cornelius Washington       DE             203.0     6\n",
       "Jon Alston                OLB             202.0     3\n",
       "Jamie Collins              DE             199.5     2\n",
       "Dekoda Watson             OLB             198.0     7\n",
       "Vernon Gholston            DE             197.5     1\n",
       "Sean Weatherspoon         OLB             197.0     1\n",
       "Ryan Shazier              OLB             197.0     1\n",
       "Nick Perry                 DE             197.0     1\n",
       "Travis Laboy               DE             196.5     2"
      ]
     },
     "execution_count": 112,
     "metadata": {},
     "output_type": "execute_result"
    }
   ],
   "source": [
    "# get a table of the 10 most explosive players\n",
    "exp = combine[combine.pos_cat.isin(['OL','DL','LB'])]\n",
    "exp['explosion'] = exp['bench'] + exp['vertical'] + exp['broad']\n",
    "exp = exp.sort('explosion', ascending=False)[['name','position','explosion', 'round']].head(10)\n",
    "exp.columns = ['Name', 'Position', 'Explosion Number', 'Round']\n",
    "exp['Round'] = exp.Round.map(round_map())\n",
    "\n",
    "exp.set_index('Name', drop=True, inplace=True)\n",
    "exp.to_html('explosion.html')\n",
    "exp"
   ]
  },
  {
   "cell_type": "code",
   "execution_count": 113,
   "metadata": {
    "collapsed": false
   },
   "outputs": [
    {
     "data": {
      "image/png": "[encoded data removed]",
      "text/plain": [
       "<matplotlib.figure.Figure at 0x10dad61d0>"
      ]
     },
     "metadata": {},
     "output_type": "display_data"
    }
   ],
   "source": [
    "# plot the explosion numbers of OLB and DE by draft round\n",
    "exp = combine[combine.position.isin(['OLB', 'DE'])]\n",
    "exp = exp[(exp['bench']!=0) & (exp['vertical']!=0) & (exp['broad']!=0)]\n",
    "exp['explosion'] = exp['bench'] + exp['vertical'] + exp['broad']\n",
    "\n",
    "expl = exp.groupby(['position','round'])[['explosion']].mean()\n",
    "grouped = expl.unstack('round')\n",
    "grouped.columns = ['Undrafted'] + ['%d' % i for i in range(1,9)]\n",
    "grouped.sort(axis=1, inplace=True)\n",
    "del grouped['8']\n",
    "\n",
    "fig, ax = plt.subplots(1,1)\n",
    "for i in grouped.index.values:\n",
    "    grouped.loc[i].plot(ax=ax, label=i)\n",
    "\n",
    "ax.set_ylabel('Explosion Number')\n",
    "ax.set_xlabel('Draft Round')\n",
    "\n",
    "ax.legend(loc='best')\n",
    "fig.savefig('exp_by_round.png', dpi=150)"
   ]
  },
  {
   "cell_type": "code",
   "execution_count": 116,
   "metadata": {
    "collapsed": false
   },
   "outputs": [
    {
     "data": {
      "image/png": "[encoded data removed]",
      "text/plain": [
       "<matplotlib.figure.Figure at 0x10dbc09d0>"
      ]
     },
     "metadata": {},
     "output_type": "display_data"
    }
   ],
   "source": [
    "# plot the 40 yd dash and vertical leap of running backs by draft round\n",
    "rbs = combine[(combine.position=='RB') & (combine.fortyyd > 0) & (combine.vertical > 0)]\n",
    "\n",
    "grouped = rbs.groupby(['round'])[['vertical', 'fortyyd']].mean()\n",
    "grouped.reset_index(inplace=True)\n",
    "\n",
    "rounds = {i:i for i in range(1,8)}\n",
    "rounds[0]='Undrafted'\n",
    "rounds[8]='Undrafted'\n",
    "    \n",
    "grouped['round'] = grouped['round'].map(rounds)\n",
    "grouped.sort('round', inplace=True)\n",
    "\n",
    "ax = grouped.plot(x='round', y='fortyyd', legend=None)\n",
    "ax2 = ax.twinx()\n",
    "grouped.plot(x='round', y='vertical', c='r', ax=ax2, legend=None)\n",
    "\n",
    "ax.set_ylabel('40 yard dash (s)')\n",
    "ax2.set_ylabel('Vertical Leap (inches)')\n",
    "ax.set_xlabel('Draft Round')\n",
    "\n",
    "ax.spines['top'].set_visible(False) \n",
    "ax2.spines['top'].set_visible(False) \n",
    "ax.xaxis.set_ticks_position('bottom')\n",
    "\n",
    "ax.spines['right'].set_color('red')\n",
    "ax.spines['left'].set_color('blue')\n",
    "\n",
    "ax.tick_params(axis='y', colors='blue')\n",
    "ax2.tick_params(axis='y', colors='red')\n",
    "\n",
    "ax.yaxis.label.set_color('blue')\n",
    "ax2.yaxis.label.set_color('red')\n",
    "\n",
    "ax.get_figure().savefig('rb_by_round.png', dpi=150)\n"
   ]
  }
 ],
 "metadata": {
  "kernelspec": {
   "display_name": "Python 2",
   "language": "python",
   "name": "python2"
  },
  "language_info": {
   "codemirror_mode": {
    "name": "ipython",
    "version": 2
   },
   "file_extension": ".py",
   "mimetype": "text/x-python",
   "name": "python",
   "nbconvert_exporter": "python",
   "pygments_lexer": "ipython2",
   "version": "2.7.10"
  }
 },
 "nbformat": 4,
 "nbformat_minor": 0
}
