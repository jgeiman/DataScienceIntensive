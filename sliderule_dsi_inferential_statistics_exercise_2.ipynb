{
 "cells": [
  {
   "cell_type": "markdown",
   "metadata": {},
   "source": [
    "\n",
    "### Examining racial discrimination in the US job market\n",
    "\n",
    "#### Background\n",
    "Racial discrimination continues to be pervasive in cultures throughout the world. Researchers examined the level of racial discrimination in the United States labor market by randomly assigning identical résumés black-sounding or white-sounding names and observing the impact on requests for interviews from employers.\n",
    "\n",
    "#### Data\n",
    "In the dataset provided, each row represents a resume. The 'race' column has two values, 'b' and 'w', indicating black-sounding and white-sounding. The column 'call' has two values, 1 and 0, indicating whether the resume received a call from employers or not.\n",
    "\n",
    "Note that the 'b' and 'w' values in race are assigned randomly to the resumes.\n",
    "\n",
    "#### Exercise\n",
    "You will perform a statistical analysis to establish whether race has a significant impact on the rate of callbacks for resumes.\n",
    "\n",
    "Answer the following questions **in this notebook below and submit to your Github account**. \n",
    "\n",
    "   1. What test is appropriate for this problem? Does CLT apply?\n",
    "   2. What are the null and alternate hypotheses?\n",
    "   3. Compute margin of error, confidence interval, and p-value.\n",
    "   4. Discuss statistical significance.\n",
    "\n",
    "You can include written notes in notebook cells using Markdown: \n",
    "   - In the control panel at the top, choose Cell > Cell Type > Markdown\n",
    "   - Markdown syntax: http://nestacms.com/docs/creating-content/markdown-cheat-sheet\n",
    "\n",
    "\n",
    "#### Resources\n",
    "+ Experiment information and data source: http://www.povertyactionlab.org/evaluation/discrimination-job-market-united-states\n",
    "+ Scipy statistical methods: http://docs.scipy.org/doc/scipy/reference/stats.html \n",
    "+ Markdown syntax: http://nestacms.com/docs/creating-content/markdown-cheat-sheet\n",
    "\n",
    "****"
   ]
  },
  {
   "cell_type": "code",
   "execution_count": 1,
   "metadata": {
    "collapsed": true
   },
   "outputs": [],
   "source": [
    "import pandas as pd\n",
    "import numpy as np\n",
    "from scipy import stats"
   ]
  },
  {
   "cell_type": "code",
   "execution_count": 2,
   "metadata": {
    "collapsed": false
   },
   "outputs": [],
   "source": [
    "data = pd.io.stata.read_stata('data/us_job_market_discrimination.dta')"
   ]
  },
  {
   "cell_type": "code",
   "execution_count": 3,
   "metadata": {
    "collapsed": false
   },
   "outputs": [
    {
     "data": {
      "text/plain": [
       "157.0"
      ]
     },
     "execution_count": 3,
     "metadata": {},
     "output_type": "execute_result"
    }
   ],
   "source": [
    "# number of callbacks for black-sounding names\n",
    "sum(data[data.race=='b'].call)"
   ]
  },
  {
   "cell_type": "code",
   "execution_count": 4,
   "metadata": {
    "collapsed": false
   },
   "outputs": [
    {
     "data": {
      "text/plain": [
       "235.0"
      ]
     },
     "execution_count": 4,
     "metadata": {},
     "output_type": "execute_result"
    }
   ],
   "source": [
    "# number of callbacks for white-sounding names\n",
    "sum(data[data.race=='w'].call)"
   ]
  },
  {
   "cell_type": "code",
   "execution_count": 5,
   "metadata": {
    "collapsed": false
   },
   "outputs": [
    {
     "data": {
      "text/html": [
       "<div>\n",
       "<table border=\"1\" class=\"dataframe\">\n",
       "  <thead>\n",
       "    <tr style=\"text-align: right;\">\n",
       "      <th>call</th>\n",
       "      <th>0.0</th>\n",
       "      <th>1.0</th>\n",
       "    </tr>\n",
       "    <tr>\n",
       "      <th>race</th>\n",
       "      <th></th>\n",
       "      <th></th>\n",
       "    </tr>\n",
       "  </thead>\n",
       "  <tbody>\n",
       "    <tr>\n",
       "      <th>b</th>\n",
       "      <td>2278</td>\n",
       "      <td>157</td>\n",
       "    </tr>\n",
       "    <tr>\n",
       "      <th>w</th>\n",
       "      <td>2200</td>\n",
       "      <td>235</td>\n",
       "    </tr>\n",
       "  </tbody>\n",
       "</table>\n",
       "</div>"
      ],
      "text/plain": [
       "call     0    1\n",
       "race           \n",
       "b     2278  157\n",
       "w     2200  235"
      ]
     },
     "execution_count": 5,
     "metadata": {},
     "output_type": "execute_result"
    }
   ],
   "source": [
    "# compute a simple cross-tabulation of the counts for the counts of whether or not a resume received a call, \n",
    "# based on the perceived race of the applicant\n",
    "pd.crosstab(index=data['race'], columns=data['call'])\n"
   ]
  },
  {
   "cell_type": "code",
   "execution_count": 6,
   "metadata": {
    "collapsed": false
   },
   "outputs": [],
   "source": [
    "# create a subset of the data with the only the columns of interest.\n",
    "calls = data[['race', 'call']]"
   ]
  },
  {
   "cell_type": "markdown",
   "metadata": {},
   "source": [
    "###Introduction\n",
    "\n",
    "To perform a statistical analysis on whether race has a significant impact on the rate of callbacks for resumes, we will use the difference between two proportions. The first proportion is the proportion of resumes with black-sounding names that received a call back, and the second proportion is for resumes with white-sounding names that received a call back. \n",
    "\n",
    "The null hypothesis (H_0) is that there is no difference in the two proportions. The alternative hypothesis (H_A) is that there is difference in the proportion of resumes that received callbacks, based on race.\n",
    "\n",
    "####Conditions\n",
    "The normal model will be applied to this problem. Two conditions must be verified before applying this model to the difference of two proportions:\n",
    "1. Each proportion separately follows a normal model.\n",
    "2. The two samples are independant of each other.\n",
    "\n",
    "To evaluate these conditions, we must first calculate the **pooled proportion**. The pooled proportion is the best-estimate of the callback rate, if the null hypothesis is true."
   ]
  },
  {
   "cell_type": "code",
   "execution_count": 7,
   "metadata": {
    "collapsed": false
   },
   "outputs": [
    {
     "data": {
      "text/plain": [
       "0.080492813141683772"
      ]
     },
     "execution_count": 7,
     "metadata": {},
     "output_type": "execute_result"
    }
   ],
   "source": [
    "# pooled proportion is the total number of callbacks, divided by the total number of applicants\n",
    "n = len(calls)\n",
    "pooled = sum(calls.call) / n\n",
    "pooled"
   ]
  },
  {
   "cell_type": "markdown",
   "metadata": {},
   "source": [
    "Since the data is from a randomized field experiment involving nearly 5,000 résumés sent in response to over 1,300 newspaper ads, the callback results can be treated as independant. To evaluate whether the success-failure condition for the normal model is met, the number of success (callbacks) and failures (no callback) from each group must be at least 10, based on the pooled proportion."
   ]
  },
  {
   "cell_type": "code",
   "execution_count": 8,
   "metadata": {
    "collapsed": false
   },
   "outputs": [
    {
     "name": "stdout",
     "output_type": "stream",
     "text": [
      "Callbacks, Black 196.0\n",
      "No Callbacks, Black 2239.0\n",
      "Callbacks, White 196.0\n",
      "No Callbacks, White 2239.0\n"
     ]
    }
   ],
   "source": [
    "# determine the number of black and white applicants\n",
    "n_black = len(calls[calls.race=='b'])\n",
    "n_white = len(calls[calls.race=='w'])\n",
    "\n",
    "print \"Callbacks, Black\", n_black * pooled\n",
    "print \"No Callbacks, Black\", n_black * (1 - pooled)\n",
    "print \"Callbacks, White\", n_white * pooled\n",
    "print \"No Callbacks, White\", n_white * (1 - pooled)\n"
   ]
  },
  {
   "cell_type": "markdown",
   "metadata": {},
   "source": [
    "The **success-failure condition is satisfied** (all values greater than 10), so the normal model applies."
   ]
  },
  {
   "cell_type": "markdown",
   "metadata": {},
   "source": [
    "### Hypothesis Testing\n",
    "To test the hypothesis, first calculate a point estimate of the difference in callback rates between the two races. Then calculate the standard error using the pooled proportion."
   ]
  },
  {
   "cell_type": "code",
   "execution_count": 9,
   "metadata": {
    "collapsed": false
   },
   "outputs": [
    {
     "data": {
      "text/plain": [
       "0.032032854209445585"
      ]
     },
     "execution_count": 9,
     "metadata": {},
     "output_type": "execute_result"
    }
   ],
   "source": [
    "# point estimate of difference in callback rates\n",
    "callbacks_white = sum(calls[calls.race=='w'].call)\n",
    "callbacks_black = sum(calls[calls.race=='b'].call)\n",
    "\n",
    "p_white = callbacks_white / n_white\n",
    "p_black = callbacks_black / n_black\n",
    "\n",
    "p_diff = p_white - p_black\n",
    "p_diff"
   ]
  },
  {
   "cell_type": "code",
   "execution_count": 10,
   "metadata": {
    "collapsed": false
   },
   "outputs": [
    {
     "data": {
      "text/plain": [
       "0.0077968940361704568"
      ]
     },
     "execution_count": 10,
     "metadata": {},
     "output_type": "execute_result"
    }
   ],
   "source": [
    "# Std Error calculated using the pooled proportion\n",
    "SE = ( (pooled*(1-pooled) / n_white) + (pooled*(1-pooled) / n_black) ) ** 0.5\n",
    "SE"
   ]
  },
  {
   "cell_type": "markdown",
   "metadata": {},
   "source": [
    "Next, compute the test statistic (z) based on the point estimate and std error calculated above. The null value is zero, since the null hypothesis assumes no difference in the two proportions:"
   ]
  },
  {
   "cell_type": "code",
   "execution_count": 11,
   "metadata": {
    "collapsed": false
   },
   "outputs": [
    {
     "data": {
      "text/plain": [
       "4.1084121524343464"
      ]
     },
     "execution_count": 11,
     "metadata": {},
     "output_type": "execute_result"
    }
   ],
   "source": [
    "p_null = 0\n",
    "z = (p_diff - p_null) / SE\n",
    "z"
   ]
  },
  {
   "cell_type": "code",
   "execution_count": 12,
   "metadata": {
    "collapsed": false
   },
   "outputs": [
    {
     "data": {
      "text/plain": [
       "3.9838868375850767e-05"
      ]
     },
     "execution_count": 12,
     "metadata": {},
     "output_type": "execute_result"
    }
   ],
   "source": [
    "p = stats.norm.sf(abs(z))*2\n",
    "p"
   ]
  },
  {
   "cell_type": "markdown",
   "metadata": {},
   "source": [
    "Since the **p-value is much smaller than the significance level (0.05)**, there is convincing evidence to **reject the null hypothesis**. Therefore, there was a statistically significant difference in the proportions of resumes that received callbacks between the two races examined in this study."
   ]
  },
  {
   "cell_type": "markdown",
   "metadata": {},
   "source": [
    "### Confidence Intervals\n",
    "\n",
    "We can also calculate confidence intervals for the difference in proportion of callbacks between the black and white applicants. First, calculate a standard error, based on the sample proportions: "
   ]
  },
  {
   "cell_type": "code",
   "execution_count": 13,
   "metadata": {
    "collapsed": false
   },
   "outputs": [
    {
     "data": {
      "text/plain": [
       "0.0077833705866767544"
      ]
     },
     "execution_count": 13,
     "metadata": {},
     "output_type": "execute_result"
    }
   ],
   "source": [
    "SE_2 = ( (p_white*(1-p_white) / n_white) + (p_black*(1-p_black) / n_black) ) ** 0.5\n",
    "SE_2"
   ]
  },
  {
   "cell_type": "markdown",
   "metadata": {},
   "source": [
    "For a 95% confidence interval, use a z* = 1.96. The margin of error (ME) and confidence interval (CI) are:"
   ]
  },
  {
   "cell_type": "code",
   "execution_count": 15,
   "metadata": {
    "collapsed": false
   },
   "outputs": [
    {
     "name": "stdout",
     "output_type": "stream",
     "text": [
      "Margin of Error: 0.0152554063499\n",
      "Confidence Interval: (0.016777447859559147, 0.047288260559332024)\n"
     ]
    }
   ],
   "source": [
    "ME = 1.96 * SE_2\n",
    "print 'Margin of Error:', ME\n",
    "\n",
    "CI = (p_diff - ME, p_diff + ME)\n",
    "print 'Confidence Interval:', CI"
   ]
  },
  {
   "cell_type": "markdown",
   "metadata": {},
   "source": [
    "We are 95% certain that the callback rate for job applications for sales, administrative, and clerical jobs in Boston and Chicago was 1.6 to 4.7 percent higher for resumes containing white-sounding names, compared to those with black-sounding names."
   ]
  }
 ],
 "metadata": {
  "kernelspec": {
   "display_name": "Python 2",
   "language": "python",
   "name": "python2"
  },
  "language_info": {
   "codemirror_mode": {
    "name": "ipython",
    "version": 2
   },
   "file_extension": ".py",
   "mimetype": "text/x-python",
   "name": "python",
   "nbconvert_exporter": "python",
   "pygments_lexer": "ipython2",
   "version": "2.7.10"
  }
 },
 "nbformat": 4,
 "nbformat_minor": 0
}
