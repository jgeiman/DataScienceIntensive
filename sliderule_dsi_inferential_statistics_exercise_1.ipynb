{
 "cells": [
  {
   "cell_type": "markdown",
   "metadata": {},
   "source": [
    "## What is the true normal human body temperature? \n",
    "\n",
    "#### Background\n",
    "\n",
    "The mean normal body temperature was held to be 37$^{\\circ}$C or 98.6$^{\\circ}$F for more than 120 years since it was first conceptualized and reported by Carl Wunderlich in a famous 1868 book. In 1992, this value was revised to 36.8$^{\\circ}$C or 98.2$^{\\circ}$F. \n",
    "\n",
    "#### Exercise\n",
    "In this exercise, you will analyze a dataset of human body temperatures and employ the concepts of hypothesis testing, confidence intervals, and statistical significance.\n",
    "\n",
    "Answer the following questions **in this notebook below and submit to your Github account**. \n",
    "\n",
    "1.  Is the distribution of body temperatures normal? \n",
    "    - Remember that this is a condition for the CLT, and hence the statistical tests we are using, to apply. \n",
    "2.  Is the true population mean really 98.6 degrees F?\n",
    "    - Bring out the one sample hypothesis test! In this situation, is it approriate to apply a z-test or a t-test? How will the result be different?\n",
    "3.  At what temperature should we consider someone's temperature to be \"abnormal\"?\n",
    "    - Start by computing the margin of error and confidence interval.\n",
    "4.  Is there a significant difference between males and females in normal temperature?\n",
    "    - Set up and solve for a two sample hypothesis testing.\n",
    "\n",
    "You can include written notes in notebook cells using Markdown: \n",
    "   - In the control panel at the top, choose Cell > Cell Type > Markdown\n",
    "   - Markdown syntax: http://nestacms.com/docs/creating-content/markdown-cheat-sheet\n",
    "\n",
    "#### Resources\n",
    "\n",
    "+ Information and data sources: http://www.amstat.org/publications/jse/datasets/normtemp.txt, http://www.amstat.org/publications/jse/jse_data_archive.htm\n",
    "+ Markdown syntax: http://nestacms.com/docs/creating-content/markdown-cheat-sheet\n",
    "\n",
    "****"
   ]
  },
  {
   "cell_type": "code",
   "execution_count": 1,
   "metadata": {
    "collapsed": false
   },
   "outputs": [],
   "source": [
    "import pandas as pd\n",
    "%matplotlib inline"
   ]
  },
  {
   "cell_type": "code",
   "execution_count": 2,
   "metadata": {
    "collapsed": false
   },
   "outputs": [],
   "source": [
    "df = pd.read_csv('data/human_body_temperature.csv')"
   ]
  },
  {
   "cell_type": "markdown",
   "metadata": {},
   "source": [
    "## 1. Is the data normal?"
   ]
  },
  {
   "cell_type": "code",
   "execution_count": 3,
   "metadata": {
    "collapsed": false
   },
   "outputs": [
    {
     "data": {
      "text/plain": [
       "<matplotlib.axes._subplots.AxesSubplot at 0x10962f510>"
      ]
     },
     "execution_count": 3,
     "metadata": {},
     "output_type": "execute_result"
    },
    {
     "data": {
      "image/png": "[encoded data removed]",
      "text/plain": [
       "<matplotlib.figure.Figure at 0x10953df50>"
      ]
     },
     "metadata": {},
     "output_type": "display_data"
    }
   ],
   "source": [
    "df['temperature'].plot(kind='hist', bins=15)"
   ]
  },
  {
   "cell_type": "code",
   "execution_count": 4,
   "metadata": {
    "collapsed": false
   },
   "outputs": [
    {
     "data": {
      "text/plain": [
       "130"
      ]
     },
     "execution_count": 4,
     "metadata": {},
     "output_type": "execute_result"
    }
   ],
   "source": [
    "len(df)"
   ]
  },
  {
   "cell_type": "code",
   "execution_count": 5,
   "metadata": {
    "collapsed": false
   },
   "outputs": [
    {
     "data": {
      "text/plain": [
       "<matplotlib.axes._subplots.AxesSubplot at 0x109707550>"
      ]
     },
     "execution_count": 5,
     "metadata": {},
     "output_type": "execute_result"
    },
    {
     "data": {
      "image/png": "[encoded data removed]",
      "text/plain": [
       "<matplotlib.figure.Figure at 0x10953dd50>"
      ]
     },
     "metadata": {},
     "output_type": "display_data"
    }
   ],
   "source": [
    "df['temperature'].plot(kind='box')"
   ]
  },
  {
   "cell_type": "markdown",
   "metadata": {},
   "source": [
    "The data appears to be approximately normal, but slightly right-skewed. The boxplot of the data shows the temperature data is fairly symmetric. To confirm that the data is indeed normal, construct a normal probability plot."
   ]
  },
  {
   "cell_type": "code",
   "execution_count": 6,
   "metadata": {
    "collapsed": false
   },
   "outputs": [
    {
     "name": "stderr",
     "output_type": "stream",
     "text": [
      "/Users/jag/anaconda/lib/python2.7/site-packages/matplotlib/figure.py:387: UserWarning: matplotlib is currently using a non-GUI backend, so cannot show the figure\n",
      "  \"matplotlib is currently using a non-GUI backend, \"\n"
     ]
    },
    {
     "data": {
      "image/png": "[encoded data removed]",
      "text/plain": [
       "<matplotlib.figure.Figure at 0x10984ab90>"
      ]
     },
     "metadata": {},
     "output_type": "display_data"
    }
   ],
   "source": [
    "from scipy import stats\n",
    "import matplotlib.pyplot as plt\n",
    "\n",
    "fig, ax = plt.subplots(1,1)\n",
    "x = stats.norm.rvs(loc=df['temperature'].mean(), scale=df['temperature'].std(), size=len(df))\n",
    "res = stats.probplot(x, plot=plt)\n",
    "fig.show()"
   ]
  },
  {
   "cell_type": "markdown",
   "metadata": {},
   "source": [
    "The temperature appears normal, so the normality condition to use the CLT is met for this dataset.  "
   ]
  },
  {
   "cell_type": "markdown",
   "metadata": {},
   "source": [
    "## 2. Is true population mean really 98.6 deg. F?"
   ]
  },
  {
   "cell_type": "code",
   "execution_count": 7,
   "metadata": {
    "collapsed": false
   },
   "outputs": [
    {
     "data": {
      "text/plain": [
       "count    130.000000\n",
       "mean      98.249231\n",
       "std        0.733183\n",
       "min       96.300000\n",
       "25%       97.800000\n",
       "50%       98.300000\n",
       "75%       98.700000\n",
       "max      100.800000\n",
       "Name: temperature, dtype: float64"
      ]
     },
     "execution_count": 7,
     "metadata": {},
     "output_type": "execute_result"
    }
   ],
   "source": [
    "df['temperature'].describe()"
   ]
  },
  {
   "cell_type": "code",
   "execution_count": 8,
   "metadata": {
    "collapsed": false
   },
   "outputs": [
    {
     "name": "stdout",
     "output_type": "stream",
     "text": [
      "Std Error: 0.0643044168381\n"
     ]
    }
   ],
   "source": [
    "mean = df['temperature'].mean()\n",
    "s = df['temperature'].std()\n",
    "n = len(df['temperature'])\n",
    "SE = s / n ** 0.5\n",
    "print 'Std Error:', SE"
   ]
  },
  {
   "cell_type": "markdown",
   "metadata": {},
   "source": [
    "Construct a hypothesis test, using z-test since we have > 100 samples and a normally-distributed sample. A t-test could be used, but since there are 130 samples, the 129 degrees of freedom would make the t-distribution very similar to the normal distribution. \n",
    "\n",
    "H0 (Null Hypothesis) = Mean Temperature = 98.6\n",
    "\n",
    "HA (Alternative Hypothesis) = Mean Temperature != 98.6\n"
   ]
  },
  {
   "cell_type": "code",
   "execution_count": 9,
   "metadata": {
    "collapsed": false
   },
   "outputs": [
    {
     "data": {
      "text/plain": [
       "-5.4548232923463891"
      ]
     },
     "execution_count": 9,
     "metadata": {},
     "output_type": "execute_result"
    }
   ],
   "source": [
    "z = (mean - 98.6) / SE\n",
    "z"
   ]
  },
  {
   "cell_type": "markdown",
   "metadata": {},
   "source": [
    "Since we aren't interested in the direction of the change, use a 2-sided hypothesis test."
   ]
  },
  {
   "cell_type": "code",
   "execution_count": 10,
   "metadata": {
    "collapsed": false
   },
   "outputs": [
    {
     "data": {
      "text/plain": [
       "4.9021570146013884e-08"
      ]
     },
     "execution_count": 10,
     "metadata": {},
     "output_type": "execute_result"
    }
   ],
   "source": [
    "p = stats.norm.sf(abs(z))*2\n",
    "p"
   ]
  },
  {
   "cell_type": "markdown",
   "metadata": {},
   "source": [
    "Since the p-value is much smaller than the significance level (0.05), there is convincing evidence to **reject** the null hypothesis that the mean temperature is 98.6 deg. F."
   ]
  },
  {
   "cell_type": "markdown",
   "metadata": {},
   "source": [
    "## 3.  At what temperature should we consider someone's temperature to be \"abnormal\"?\n",
    "\n",
    "For this analysis, compute the margin of error and 95% confidence interval for the sample distribution. "
   ]
  },
  {
   "cell_type": "code",
   "execution_count": 11,
   "metadata": {
    "collapsed": false
   },
   "outputs": [
    {
     "data": {
      "text/plain": [
       "(98.123194112228063, 98.375267426233435)"
      ]
     },
     "execution_count": 11,
     "metadata": {},
     "output_type": "execute_result"
    }
   ],
   "source": [
    "ME = 1.96 * SE\n",
    "CI = (mean - ME, mean + ME)\n",
    "CI"
   ]
  },
  {
   "cell_type": "markdown",
   "metadata": {},
   "source": [
    "We can be 95% certain that the mean body temperature should be between 98.1 and 98.4 degrees F. Mean temperatures outside this range would be considered abnormal.   "
   ]
  },
  {
   "cell_type": "markdown",
   "metadata": {
    "collapsed": true
   },
   "source": [
    "## 4. Is there a significant difference between males and females in normal temperature?\n",
    "\n",
    "Use a two-sample hypothesis test to determine if a statistically-significant different in normal temperatures occurs between males and females:\n",
    "\n",
    "H0 (null) = mean_males - mean_females == 0\n",
    "\n",
    "HA (alternative) = mean_males - mean_females != 0\n",
    "\n",
    "Since the direction of the difference is unimportant, use a two-sided hypothesis test."
   ]
  },
  {
   "cell_type": "code",
   "execution_count": 12,
   "metadata": {
    "collapsed": false
   },
   "outputs": [
    {
     "name": "stdout",
     "output_type": "stream",
     "text": [
      "<class 'pandas.core.frame.DataFrame'>\n",
      "Int64Index: 130 entries, 0 to 129\n",
      "Data columns (total 3 columns):\n",
      "temperature    130 non-null float64\n",
      "gender         130 non-null object\n",
      "heart_rate     130 non-null float64\n",
      "dtypes: float64(2), object(1)\n",
      "memory usage: 4.1+ KB\n"
     ]
    }
   ],
   "source": [
    "df.info()\n"
   ]
  },
  {
   "cell_type": "code",
   "execution_count": 13,
   "metadata": {
    "collapsed": false
   },
   "outputs": [],
   "source": [
    "males = df[df.gender == 'M']['temperature']\n",
    "females = df[df.gender == 'F']['temperature']"
   ]
  },
  {
   "cell_type": "code",
   "execution_count": 14,
   "metadata": {
    "collapsed": false
   },
   "outputs": [
    {
     "data": {
      "text/plain": [
       "count    65.000000\n",
       "mean     98.104615\n",
       "std       0.698756\n",
       "min      96.300000\n",
       "25%      97.600000\n",
       "50%      98.100000\n",
       "75%      98.600000\n",
       "max      99.500000\n",
       "Name: temperature, dtype: float64"
      ]
     },
     "execution_count": 14,
     "metadata": {},
     "output_type": "execute_result"
    }
   ],
   "source": [
    "males.describe()"
   ]
  },
  {
   "cell_type": "code",
   "execution_count": 15,
   "metadata": {
    "collapsed": false
   },
   "outputs": [
    {
     "data": {
      "text/plain": [
       "count     65.000000\n",
       "mean      98.393846\n",
       "std        0.743488\n",
       "min       96.400000\n",
       "25%       98.000000\n",
       "50%       98.400000\n",
       "75%       98.800000\n",
       "max      100.800000\n",
       "Name: temperature, dtype: float64"
      ]
     },
     "execution_count": 15,
     "metadata": {},
     "output_type": "execute_result"
    }
   ],
   "source": [
    "females.describe()"
   ]
  },
  {
   "cell_type": "markdown",
   "metadata": {},
   "source": [
    "The sample difference of two means can be modeled using the t-distribution. So next, calculate the T-statistic and p-value."
   ]
  },
  {
   "cell_type": "code",
   "execution_count": 17,
   "metadata": {
    "collapsed": false
   },
   "outputs": [
    {
     "name": "stdout",
     "output_type": "stream",
     "text": [
      "t: -2.28543453817\n",
      "p: 0.0239382641829\n"
     ]
    }
   ],
   "source": [
    "t, p = stats.ttest_ind(males, females, equal_var=False)\n",
    "print 't:', t\n",
    "print 'p:', p\n"
   ]
  },
  {
   "cell_type": "markdown",
   "metadata": {},
   "source": [
    "Since the p-value (0.02) is smaller than the significance level (0.05), there is convincing evidence to **reject** the null hypothesis that there is no difference in the mean temperature between males and females. Therefore, there is a statistically-significant difference between the mean body temperatures of males and females."
   ]
  }
 ],
 "metadata": {
  "kernelspec": {
   "display_name": "Python 2",
   "language": "python",
   "name": "python2"
  },
  "language_info": {
   "codemirror_mode": {
    "name": "ipython",
    "version": 2
   },
   "file_extension": ".py",
   "mimetype": "text/x-python",
   "name": "python",
   "nbconvert_exporter": "python",
   "pygments_lexer": "ipython2",
   "version": "2.7.10"
  }
 },
 "nbformat": 4,
 "nbformat_minor": 0
}
